{
 "cells": [
  {
   "cell_type": "code",
   "execution_count": 9,
   "metadata": {},
   "outputs": [],
   "source": [
    "import numpy as np\n",
    "import matplotlib.pyplot as plt\n",
    "import os\n",
    "import time"
   ]
  },
  {
   "cell_type": "code",
   "execution_count": 206,
   "metadata": {},
   "outputs": [],
   "source": [
    "def genPoints(n=8):\n",
    "    coords=[]\n",
    "    for _ in range(n):\n",
    "        c=np.random.randint(0,20,2)\n",
    "        coords.append(c)\n",
    "    return coords"
   ]
  },
  {
   "cell_type": "code",
   "execution_count": 175,
   "metadata": {},
   "outputs": [],
   "source": [
    "def lerp(*args,t):\n",
    "    if len(args)==2:\n",
    "        return [(1-t)*args[0]+t*args[1]]\n",
    "    next=[]\n",
    "    for i in range(len(args)-1):\n",
    "        next+=lerp(args[i],args[i+1],t=t)[-1],\n",
    "    return [next,*lerp(*next,t=t)]"
   ]
  },
  {
   "cell_type": "code",
   "execution_count": 202,
   "metadata": {},
   "outputs": [],
   "source": [
    "def plotFrame(coords,filename,tracker,t=0.5):\n",
    "    k = lerp(*coords,t=t)\n",
    "    ax = plt.gca()\n",
    "    ax.set_xlim([-1, 21])\n",
    "    ax.set_ylim([-1, 21])\n",
    "    plt.plot(*np.array(coords).T,\"--\",alpha=0.3)\n",
    "    plt.scatter(*np.array(coords).T,s=3)\n",
    "    for t in k:\n",
    "        plt.plot(*np.array(t).T,\"--\",alpha=0.3)\n",
    "        plt.scatter(*np.array(t).T,s=3)\n",
    "    plt.plot(*np.array([*tracker,k[-1]]).T)\n",
    "    plt.savefig(filename)\n",
    "    plt.close()\n",
    "    return k[-1]"
   ]
  },
  {
   "cell_type": "code",
   "execution_count": 215,
   "metadata": {},
   "outputs": [],
   "source": [
    "def generateFrames(coords,n=25):\n",
    "    steps=np.linspace(0,1,n)\n",
    "    time_=int(time.time())\n",
    "    path_ = f\"outs/{time_}/\"\n",
    "    os.makedirs(path_)\n",
    "    tracker=[]\n",
    "    for index,step in enumerate(steps):\n",
    "        filename = path_ + \"temp_{:03d}.png\".format(index)\n",
    "        tracker+=plotFrame(coords,filename,tracker,t=step),\n",
    "        print(\"Finished {:.2f}% of frames\".format((index+1)*100.0/n),end=\"\\r\",flush=True)\n",
    "    return time_\n"
   ]
  },
  {
   "cell_type": "code",
   "execution_count": 217,
   "metadata": {},
   "outputs": [
    {
     "name": "stdout",
     "output_type": "stream",
     "text": [
      "Finished 100.00% of frames\r"
     ]
    },
    {
     "name": "stderr",
     "output_type": "stream",
     "text": [
      "ffmpeg version 4.2.2 Copyright (c) 2000-2019 the FFmpeg developers\n",
      "  built with gcc 7.3.0 (crosstool-NG 1.23.0.449-a04d0)\n",
      "  configuration: --prefix=/home/lonemohsin/anaconda3/envs/softmatter --cc=/tmp/build/80754af9/ffmpeg_1587154242452/_build_env/bin/x86_64-conda_cos6-linux-gnu-cc --disable-doc --enable-avresample --enable-gmp --enable-hardcoded-tables --enable-libfreetype --enable-libvpx --enable-pthreads --enable-libopus --enable-postproc --enable-pic --enable-pthreads --enable-shared --enable-static --enable-version3 --enable-zlib --enable-libmp3lame --disable-nonfree --enable-gpl --enable-gnutls --disable-openssl --enable-libopenh264 --enable-libx264\n",
      "  libavutil      56. 31.100 / 56. 31.100\n",
      "  libavcodec     58. 54.100 / 58. 54.100\n",
      "  libavformat    58. 29.100 / 58. 29.100\n",
      "  libavdevice    58.  8.100 / 58.  8.100\n",
      "  libavfilter     7. 57.100 /  7. 57.100\n",
      "  libavresample   4.  0.  0 /  4.  0.  0\n",
      "  libswscale      5.  5.100 /  5.  5.100\n",
      "  libswresample   3.  5.100 /  3.  5.100\n",
      "  libpostproc    55.  5.100 / 55.  5.100\n",
      "Input #0, image2, from 'outs/1677436095/temp_*.png':\n",
      "  Duration: 00:00:15.00, start: 0.000000, bitrate: N/A\n",
      "    Stream #0:0: Video: png, rgba(pc), 640x480 [SAR 3937:3937 DAR 4:3], 20 fps, 20 tbr, 20 tbn, 20 tbc\n",
      "Stream mapping:\n",
      "  Stream #0:0 -> #0:0 (png (native) -> h264 (libx264))\n",
      "Press [q] to stop, [?] for help\n",
      "[libx264 @ 0x5651db22a880] using SAR=1/1\n",
      "[libx264 @ 0x5651db22a880] using cpu capabilities: MMX2 SSE2Fast SSSE3 SSE4.2 AVX FMA3 BMI2 AVX2\n",
      "[libx264 @ 0x5651db22a880] profile High 4:4:4 Predictive, level 3.0, 4:4:4, 8-bit\n",
      "[libx264 @ 0x5651db22a880] 264 - core 157 - H.264/MPEG-4 AVC codec - Copyleft 2003-2018 - http://www.videolan.org/x264.html - options: cabac=1 ref=3 deblock=1:0:0 analyse=0x1:0x111 me=hex subme=7 psy=1 psy_rd=1.00:0.00 mixed_ref=1 me_range=16 chroma_me=1 trellis=1 8x8dct=0 cqm=0 deadzone=21,11 fast_pskip=1 chroma_qp_offset=4 threads=15 lookahead_threads=2 sliced_threads=0 nr=0 decimate=1 interlaced=0 bluray_compat=0 constrained_intra=0 bframes=3 b_pyramid=2 b_adapt=1 b_bias=0 direct=1 weightb=1 open_gop=0 weightp=2 keyint=250 keyint_min=20 scenecut=40 intra_refresh=0 rc_lookahead=40 rc=crf mbtree=1 crf=23.0 qcomp=0.60 qpmin=0 qpmax=69 qpstep=4 ip_ratio=1.40 aq=1:1.00\n",
      "Output #0, mp4, to 'videos/1677436095.mp4':\n",
      "  Metadata:\n",
      "    encoder         : Lavf58.29.100\n",
      "    Stream #0:0: Video: h264 (libx264) (avc1 / 0x31637661), yuv444p, 640x480 [SAR 1:1 DAR 4:3], q=-1--1, 20 fps, 10240 tbn, 20 tbc\n",
      "    Metadata:\n",
      "      encoder         : Lavc58.54.100 libx264\n",
      "    Side data:\n",
      "      cpb: bitrate max/min/avg: 0/0/0 buffer size: 0 vbv_delay: -1\n",
      "frame=  300 fps=0.0 q=-1.0 Lsize=     171kB time=00:00:14.85 bitrate=  94.4kbits/s speed=30.6x    \n",
      "video:167kB audio:0kB subtitle:0kB other streams:0kB global headers:0kB muxing overhead: 2.603584%\n",
      "[libx264 @ 0x5651db22a880] frame I:2     Avg QP: 9.34  size:  9222\n",
      "[libx264 @ 0x5651db22a880] frame P:79    Avg QP:16.43  size:   989\n",
      "[libx264 @ 0x5651db22a880] frame B:219   Avg QP:21.64  size:   336\n",
      "[libx264 @ 0x5651db22a880] consecutive B-frames:  1.7%  2.7%  1.0% 94.7%\n",
      "[libx264 @ 0x5651db22a880] mb I  I16..4: 84.6%  0.0% 15.4%\n",
      "[libx264 @ 0x5651db22a880] mb P  I16..4:  0.3%  0.0%  0.1%  P16..4:  1.7%  1.6%  1.2%  0.0%  0.0%    skip:95.0%\n",
      "[libx264 @ 0x5651db22a880] mb B  I16..4:  0.1%  0.0%  0.0%  B16..8:  1.9%  1.2%  0.3%  direct: 0.4%  skip:96.0%  L0:41.3% L1:43.0% BI:15.7%\n",
      "[libx264 @ 0x5651db22a880] coded y,u,v intra: 9.6% 5.5% 5.4% inter: 0.9% 0.4% 0.4%\n",
      "[libx264 @ 0x5651db22a880] i16 v,h,dc,p: 81% 13%  6%  0%\n",
      "[libx264 @ 0x5651db22a880] i4 v,h,dc,ddl,ddr,vr,hd,vl,hu: 12% 32% 36%  2%  3%  3%  6%  2%  5%\n",
      "[libx264 @ 0x5651db22a880] Weighted P-Frames: Y:0.0% UV:0.0%\n",
      "[libx264 @ 0x5651db22a880] ref P L0: 57.0%  6.5% 21.9% 14.7%\n",
      "[libx264 @ 0x5651db22a880] ref B L0: 79.4% 16.7%  3.9%\n",
      "[libx264 @ 0x5651db22a880] ref B L1: 93.1%  6.9%\n",
      "[libx264 @ 0x5651db22a880] kb/s:90.73\n"
     ]
    },
    {
     "data": {
      "text/plain": [
       "0"
      ]
     },
     "execution_count": 217,
     "metadata": {},
     "output_type": "execute_result"
    }
   ],
   "source": [
    "time_ = generateFrames(genPoints(5), 300)\n",
    "\n",
    "os.system(f\"ffmpeg -framerate 20 -pattern_type glob -i 'outs/{time_}/temp_*.png' -c:v libx264 videos/{time_}.mp4 > /dev/null\")"
   ]
  }
 ],
 "metadata": {
  "kernelspec": {
   "display_name": "Python 3.10.4 ('softmatter')",
   "language": "python",
   "name": "python3"
  },
  "language_info": {
   "codemirror_mode": {
    "name": "ipython",
    "version": 3
   },
   "file_extension": ".py",
   "mimetype": "text/x-python",
   "name": "python",
   "nbconvert_exporter": "python",
   "pygments_lexer": "ipython3",
   "version": "3.10.4"
  },
  "orig_nbformat": 4,
  "vscode": {
   "interpreter": {
    "hash": "85a0ef439f92cfdad5673fcc0eeae2c786afee3bd331d95310098fb48f204c3d"
   }
  }
 },
 "nbformat": 4,
 "nbformat_minor": 2
}
